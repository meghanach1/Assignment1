{
 "cells": [
  {
   "cell_type": "code",
   "execution_count": 3,
   "id": "19562894",
   "metadata": {},
   "outputs": [
    {
     "name": "stdout",
     "output_type": "stream",
     "text": [
      "{'I', 'people', 'to', 'teacher', 'teach', 'a', 'am', 'and', 'inspire', 'love'}\n",
      "number of unique words set is 10\n"
     ]
    }
   ],
   "source": [
    "# Question 6\n",
    "\n",
    "str = \"I am a teacher and I love to inspire and teach people\"\n",
    "\n",
    "#How many unique words have been used in the sentence? Use the split methods and set\n",
    "#to get the unique words.\n",
    "\n",
    "# I have used split() method to split the given string into words .\n",
    "# I am converting the string using set() as set doesnt have unique words\n",
    "unique_words = set(str.split())\n",
    "print(unique_words)\n",
    "\n",
    "#using len() to get the len of the unique words set.\n",
    "length = len(unique_words)\n",
    "print(\"number of unique words set is\",length) \n"
   ]
  },
  {
   "cell_type": "code",
   "execution_count": null,
   "id": "11cbc419",
   "metadata": {},
   "outputs": [],
   "source": []
  }
 ],
 "metadata": {
  "kernelspec": {
   "display_name": "Python 3 (ipykernel)",
   "language": "python",
   "name": "python3"
  },
  "language_info": {
   "codemirror_mode": {
    "name": "ipython",
    "version": 3
   },
   "file_extension": ".py",
   "mimetype": "text/x-python",
   "name": "python",
   "nbconvert_exporter": "python",
   "pygments_lexer": "ipython3",
   "version": "3.9.13"
  }
 },
 "nbformat": 4,
 "nbformat_minor": 5
}
