{
 "cells": [
  {
   "cell_type": "code",
   "execution_count": 2,
   "id": "8de2f879",
   "metadata": {},
   "outputs": [
    {
     "name": "stdout",
     "output_type": "stream",
     "text": [
      "Name\tAge\tCountry\tCity\n",
      "Asabeneh250\tFinland\tHelsinki\n"
     ]
    }
   ],
   "source": [
    "# Question 7\n",
    "#Use a tab escape sequence to get the following lines.\n",
    "#Name Age Country City\n",
    "#Asabeneh 250 Finland Helsinki\n",
    "\n",
    "# tab escape sequence is used for string formatting and giving a tab space between words or numbers.\n",
    "print(\"Name\\tAge\\tCountry\\tCity\\nAsabeneh250\\tFinland\\tHelsinki\")"
   ]
  },
  {
   "cell_type": "code",
   "execution_count": null,
   "id": "995a6677",
   "metadata": {},
   "outputs": [],
   "source": []
  }
 ],
 "metadata": {
  "kernelspec": {
   "display_name": "Python 3 (ipykernel)",
   "language": "python",
   "name": "python3"
  },
  "language_info": {
   "codemirror_mode": {
    "name": "ipython",
    "version": 3
   },
   "file_extension": ".py",
   "mimetype": "text/x-python",
   "name": "python",
   "nbconvert_exporter": "python",
   "pygments_lexer": "ipython3",
   "version": "3.9.13"
  }
 },
 "nbformat": 4,
 "nbformat_minor": 5
}
