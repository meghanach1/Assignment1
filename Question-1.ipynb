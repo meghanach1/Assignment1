{
 "cells": [
  {
   "cell_type": "code",
   "execution_count": 7,
   "id": "45c8fb89",
   "metadata": {},
   "outputs": [
    {
     "name": "stdout",
     "output_type": "stream",
     "text": [
      "Sorted list is [19, 19, 20, 22, 24, 24, 24, 25, 25, 26]\n",
      "Max Age is 26\n",
      "Min Age is 19\n",
      "List after adding min age and max age [19, 19, 20, 22, 24, 24, 24, 25, 25, 26, 19, 26]\n",
      "Sorted list after adding min age and max age [19, 19, 20, 22, 24, 24, 24, 25, 25, 26, 19, 26]\n",
      "Median of ages is 24.0\n",
      "24\n",
      "Average of ages is  22.75\n",
      "Range of ages is  7\n"
     ]
    }
   ],
   "source": [
    "#Question 1\n",
    "\n",
    "import statistics\n",
    "import math\n",
    "# inititalizing the given list of 10 student ages \n",
    "ages = [19, 22, 19, 24, 20, 25, 26, 24, 25, 24]\n",
    "\n",
    "# 1. Sort the list and find the min and max age\n",
    "\n",
    "# used default sort() method to sort and printing the list\n",
    "ages.sort()\n",
    "print(\"Sorted list is\",ages)\n",
    "# using default max() and min () methods which are used to find max and min values in the list \n",
    "max_age = max(ages)\n",
    "min_age = min(ages)\n",
    "print(\"Max Age is\", max_age)\n",
    "print(\"Min Age is\", min_age)\n",
    "\n",
    "# 2. Add the min age and the max age again to the list\n",
    "# append() method is used to add items to the list by default, thereby adding min and max age  to the list\n",
    "ages.append(min_age)\n",
    "ages.append(max_age)\n",
    "print(\"List after adding min age and max age\", ages)\n",
    "\n",
    "# 3.Find the median age (one middle item or two middle items divided by two)\n",
    "# To find median of a list, first we need to sort the list \n",
    "# and calculate the median, but here we can use inbuilt median method by importing Statistics module in py3\n",
    "\n",
    "print(\"Sorted list after adding min age and max age\", ages)\n",
    "print(\"Median of ages is\", statistics.median(ages))\n",
    "\n",
    "# importing math module to use floor function\n",
    "\n",
    "#sorting the list\n",
    "ages.sort()\n",
    "#finding the middle index\n",
    "middle_index= len(ages)/2\n",
    "# using math function floor to get the exact middle index\n",
    "exact_middle_index = math.floor(middle_index)\n",
    "# the median value will be the value of exact_middle_index\n",
    "median_value = ages[exact_middle_index]\n",
    "print(\"Median of ages is\", median_value) \n",
    "\n",
    "# 4.Find the average age (sum of all items divided by their number)\n",
    "# To find average, we need to calculate the sum of all items in a list divided by number of items.\n",
    "# I have calculated sum and length of the list , assigned to a variage average and printed the average.\n",
    "list_sum = sum(ages)\n",
    "list_length = len(ages)\n",
    "average = list_sum/list_length\n",
    "print(\"Average of ages is \", average)\n",
    "\n",
    "# 5.Find the range of the ages (max minus min)\n",
    "\n",
    "# subtracting the max value and min value of ages using (-) operator\n",
    "range = max(ages) - min(ages)\n",
    "print(\"Range of ages is \", range)"
   ]
  },
  {
   "cell_type": "code",
   "execution_count": null,
   "id": "a519c8b5",
   "metadata": {},
   "outputs": [],
   "source": []
  }
 ],
 "metadata": {
  "kernelspec": {
   "display_name": "Python 3 (ipykernel)",
   "language": "python",
   "name": "python3"
  },
  "language_info": {
   "codemirror_mode": {
    "name": "ipython",
    "version": 3
   },
   "file_extension": ".py",
   "mimetype": "text/x-python",
   "name": "python",
   "nbconvert_exporter": "python",
   "pygments_lexer": "ipython3",
   "version": "3.9.13"
  }
 },
 "nbformat": 4,
 "nbformat_minor": 5
}
