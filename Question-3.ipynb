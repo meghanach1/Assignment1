{
 "cells": [
  {
   "cell_type": "code",
   "execution_count": 2,
   "id": "7f925c44",
   "metadata": {},
   "outputs": [
    {
     "name": "stdout",
     "output_type": "stream",
     "text": [
      "Brothers tuple is ('Jyothsna', 'Dheeru', 'Sai')\n",
      "My siblings are ('Jyothsna', 'Dheeru', 'Sai', 'Ammu', 'Madhavi')\n",
      "I have 5 siblings\n",
      "My family members are ('Jyothsna', 'Dheeru', 'Sai', 'Ammu', 'Madhavi', 'Sudha', 'Srinu')\n"
     ]
    }
   ],
   "source": [
    "# Question 3\n",
    "\n",
    "# 1.• Create a tuple containing names of your sisters and your brothers (imaginary siblings are\n",
    "# fine)\n",
    "# created a tuple using () and adding brothers and sisters to it.\n",
    "brothers =(\"Jyothsna\",\"Dheeru\",\"Sai\")\n",
    "print(\"Brothers tuple is\", brothers)\n",
    "sisters = (\"Ammu\",\"Madhavi\")\n",
    "\n",
    "#2. Join brothers and sisters tuples and assign it to siblings\n",
    "siblings = brothers + sisters\n",
    "print(\"My siblings are\", siblings)\n",
    "\n",
    "#3. How many siblings do you have?\n",
    "print(\"I have\", len(siblings), \"siblings\")\n",
    "\n",
    "#4. Modify the siblings tuple and add the name of your father and mother and assign it to\n",
    "#family_members\n",
    "# converting into list\n",
    "\n",
    "x= list(siblings)\n",
    "\n",
    "# appending members to the tuple\n",
    "x.append('Sudha')\n",
    "x.append('Srinu')\n",
    "family_members = tuple(x)\n",
    "print(\"My family members are\" ,family_members)"
   ]
  },
  {
   "cell_type": "code",
   "execution_count": null,
   "id": "22f79316",
   "metadata": {},
   "outputs": [],
   "source": []
  },
  {
   "cell_type": "code",
   "execution_count": null,
   "id": "1c1a4197",
   "metadata": {},
   "outputs": [],
   "source": []
  }
 ],
 "metadata": {
  "kernelspec": {
   "display_name": "Python 3 (ipykernel)",
   "language": "python",
   "name": "python3"
  },
  "language_info": {
   "codemirror_mode": {
    "name": "ipython",
    "version": 3
   },
   "file_extension": ".py",
   "mimetype": "text/x-python",
   "name": "python",
   "nbconvert_exporter": "python",
   "pygments_lexer": "ipython3",
   "version": "3.9.13"
  }
 },
 "nbformat": 4,
 "nbformat_minor": 5
}
