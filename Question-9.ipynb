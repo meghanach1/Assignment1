{
 "cells": [
  {
   "cell_type": "code",
   "execution_count": 5,
   "id": "2212627b",
   "metadata": {},
   "outputs": [
    {
     "name": "stdout",
     "output_type": "stream",
     "text": [
      "Enter number of students : 4\n",
      "150\n",
      "155\n",
      "145\n",
      "148\n",
      "List of weights in pounds [150, 155, 145, 148]\n",
      "List of weights in kgs [68.04, 70.31, 65.77, 67.13]\n"
     ]
    }
   ],
   "source": [
    "# Question 9\n",
    "#taking an empty list for lists of students weights in pounds and kgs\n",
    "L1 = []\n",
    "kgs_lst = []  \n",
    "# number of students as input\n",
    "N = int(input(\"Enter number of students : \"))\n",
    "  \n",
    "# iterating till the range N, where N is number of students.\n",
    "for i in range(0, N):\n",
    "    ex = int(input())\n",
    "    L1.append(ex)# adding the weight one by one\n",
    "    kgs = ex/2.2046 # converting pounds to kgs by dividing pound weight with 2.2046\n",
    "    kgs_lst.append(round(kgs,2)) # rounding up to 2 decimals\n",
    "print(\"List of weights in pounds\",L1)\n",
    "print(\"List of weights in kgs\",kgs_lst)\n"
   ]
  },
  {
   "cell_type": "code",
   "execution_count": null,
   "id": "4801d975",
   "metadata": {},
   "outputs": [],
   "source": []
  }
 ],
 "metadata": {
  "kernelspec": {
   "display_name": "Python 3 (ipykernel)",
   "language": "python",
   "name": "python3"
  },
  "language_info": {
   "codemirror_mode": {
    "name": "ipython",
    "version": 3
   },
   "file_extension": ".py",
   "mimetype": "text/x-python",
   "name": "python",
   "nbconvert_exporter": "python",
   "pygments_lexer": "ipython3",
   "version": "3.9.13"
  }
 },
 "nbformat": 4,
 "nbformat_minor": 5
}
