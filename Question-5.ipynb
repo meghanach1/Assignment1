{
 "cells": [
  {
   "cell_type": "code",
   "execution_count": 7,
   "id": "24d7db7c",
   "metadata": {},
   "outputs": [
    {
     "name": "stdout",
     "output_type": "stream",
     "text": [
      "The area of circle is 2826.0\n",
      "The circumference of circle is 188.4\n",
      "Enter the radius of the circle :30\n",
      "Area of the circle is : 2826.00\n"
     ]
    }
   ],
   "source": [
    " # Question 5\n",
    "#The radius of a circle is 30 meters.\n",
    "\n",
    "r = 30\n",
    "\n",
    "#• Calculate the area of a circle and assign the value to a variable name of _area_of_circle_\n",
    "# taking pi as 3.14\n",
    "pi= 3.14\n",
    "\n",
    "#using area of circle as pi *r *r\n",
    "_area_of_circle_ = pi * r * r\n",
    "print(\"The area of circle is\", _area_of_circle_)\n",
    " \n",
    "\n",
    "#• Calculate the circumference of a circle and assign the value to a variable name of\n",
    "#_circum_of_circle_http://localhost:8889/notebooks/Desktop/Machine%20Learning/Assignment1/Question-5.ipynb#\n",
    "\n",
    "# the circumference of circle is 2 * pi * r\n",
    "\n",
    "_circum_of_circle_ = 2 * pi * r\n",
    "print(\"The circumference of circle is\", _circum_of_circle_)\n",
    "\n",
    "\n",
    "#• Take radius as user input and calculate the area.\n",
    "\n",
    "# using input() to take the user input as radius\n",
    "r = float(input('Enter the radius of the circle :'))\n",
    "_area_of_circle_ = pi * r * r\n",
    "\n",
    "print(f\"Area of the circle is : %.2f\" % _area_of_circle_)"
   ]
  },
  {
   "cell_type": "code",
   "execution_count": null,
   "id": "3fd2951f",
   "metadata": {},
   "outputs": [],
   "source": []
  }
 ],
 "metadata": {
  "kernelspec": {
   "display_name": "Python 3 (ipykernel)",
   "language": "python",
   "name": "python3"
  },
  "language_info": {
   "codemirror_mode": {
    "name": "ipython",
    "version": 3
   },
   "file_extension": ".py",
   "mimetype": "text/x-python",
   "name": "python",
   "nbconvert_exporter": "python",
   "pygments_lexer": "ipython3",
   "version": "3.9.13"
  }
 },
 "nbformat": 4,
 "nbformat_minor": 5
}
